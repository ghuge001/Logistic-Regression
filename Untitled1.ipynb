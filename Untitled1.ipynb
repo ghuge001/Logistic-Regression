{
 "cells": [
  {
   "cell_type": "code",
   "execution_count": 1,
   "id": "3df484c4",
   "metadata": {
    "ExecuteTime": {
     "end_time": "2022-11-24T05:06:23.501514Z",
     "start_time": "2022-11-24T05:06:23.467002Z"
    }
   },
   "outputs": [
    {
     "data": {
      "text/plain": [
       "list"
      ]
     },
     "execution_count": 1,
     "metadata": {},
     "output_type": "execute_result"
    }
   ],
   "source": [
    "lst = []\n",
    "type(lst)\n"
   ]
  },
  {
   "cell_type": "code",
   "execution_count": 18,
   "id": "a6aefb0d",
   "metadata": {
    "ExecuteTime": {
     "end_time": "2022-11-24T05:10:41.116989Z",
     "start_time": "2022-11-24T05:10:41.109144Z"
    }
   },
   "outputs": [],
   "source": [
    "lst = [10,10.5,True,'hello']\n"
   ]
  },
  {
   "cell_type": "code",
   "execution_count": 19,
   "id": "27ea616e",
   "metadata": {
    "ExecuteTime": {
     "end_time": "2022-11-24T05:11:24.741812Z",
     "start_time": "2022-11-24T05:11:24.733612Z"
    }
   },
   "outputs": [
    {
     "data": {
      "text/plain": [
       "list"
      ]
     },
     "execution_count": 19,
     "metadata": {},
     "output_type": "execute_result"
    }
   ],
   "source": [
    "type(lst)"
   ]
  },
  {
   "cell_type": "code",
   "execution_count": 20,
   "id": "b7dabd60",
   "metadata": {
    "ExecuteTime": {
     "end_time": "2022-11-24T05:12:26.177919Z",
     "start_time": "2022-11-24T05:12:26.161635Z"
    }
   },
   "outputs": [
    {
     "data": {
      "text/plain": [
       "list"
      ]
     },
     "execution_count": 20,
     "metadata": {},
     "output_type": "execute_result"
    }
   ],
   "source": [
    "lst1 = list()\n",
    "type(lst1)"
   ]
  },
  {
   "cell_type": "code",
   "execution_count": 21,
   "id": "74086ec4",
   "metadata": {
    "ExecuteTime": {
     "end_time": "2022-11-24T05:12:48.806738Z",
     "start_time": "2022-11-24T05:12:48.789901Z"
    }
   },
   "outputs": [
    {
     "data": {
      "text/plain": [
       "'hello'"
      ]
     },
     "execution_count": 21,
     "metadata": {},
     "output_type": "execute_result"
    }
   ],
   "source": [
    "lst[3]"
   ]
  },
  {
   "cell_type": "code",
   "execution_count": 22,
   "id": "2b6465f6",
   "metadata": {
    "ExecuteTime": {
     "end_time": "2022-11-24T05:13:14.143126Z",
     "start_time": "2022-11-24T05:13:14.133598Z"
    }
   },
   "outputs": [
    {
     "data": {
      "text/plain": [
       "[10.5]"
      ]
     },
     "execution_count": 22,
     "metadata": {},
     "output_type": "execute_result"
    }
   ],
   "source": [
    "lst[1:2]"
   ]
  },
  {
   "cell_type": "code",
   "execution_count": 23,
   "id": "295e6d42",
   "metadata": {
    "ExecuteTime": {
     "end_time": "2022-11-24T05:13:30.090506Z",
     "start_time": "2022-11-24T05:13:30.073955Z"
    }
   },
   "outputs": [
    {
     "data": {
      "text/plain": [
       "[10.5, True]"
      ]
     },
     "execution_count": 23,
     "metadata": {},
     "output_type": "execute_result"
    }
   ],
   "source": [
    "lst[1:3]"
   ]
  },
  {
   "cell_type": "code",
   "execution_count": 24,
   "id": "4997d4dd",
   "metadata": {
    "ExecuteTime": {
     "end_time": "2022-11-24T05:13:42.624470Z",
     "start_time": "2022-11-24T05:13:42.606847Z"
    }
   },
   "outputs": [
    {
     "data": {
      "text/plain": [
       "'hello'"
      ]
     },
     "execution_count": 24,
     "metadata": {},
     "output_type": "execute_result"
    }
   ],
   "source": [
    "lst[-1]"
   ]
  },
  {
   "cell_type": "code",
   "execution_count": 27,
   "id": "c3d02f46",
   "metadata": {
    "ExecuteTime": {
     "end_time": "2022-11-24T05:14:26.102039Z",
     "start_time": "2022-11-24T05:14:26.086755Z"
    }
   },
   "outputs": [
    {
     "data": {
      "text/plain": [
       "[10, 10.5, True, 'hello', 1000, 1000, 1000]"
      ]
     },
     "execution_count": 27,
     "metadata": {},
     "output_type": "execute_result"
    }
   ],
   "source": [
    "lst.append(1000)\n",
    "lst"
   ]
  },
  {
   "cell_type": "code",
   "execution_count": 28,
   "id": "3fdd02c9",
   "metadata": {
    "ExecuteTime": {
     "end_time": "2022-11-24T05:15:02.151934Z",
     "start_time": "2022-11-24T05:15:02.130513Z"
    }
   },
   "outputs": [
    {
     "data": {
      "text/plain": [
       "3"
      ]
     },
     "execution_count": 28,
     "metadata": {},
     "output_type": "execute_result"
    }
   ],
   "source": [
    "lst.count(1000)"
   ]
  },
  {
   "cell_type": "code",
   "execution_count": 29,
   "id": "58d8b82a",
   "metadata": {
    "ExecuteTime": {
     "end_time": "2022-11-24T05:15:36.363145Z",
     "start_time": "2022-11-24T05:15:36.351179Z"
    }
   },
   "outputs": [
    {
     "data": {
      "text/plain": [
       "1"
      ]
     },
     "execution_count": 29,
     "metadata": {},
     "output_type": "execute_result"
    }
   ],
   "source": [
    "lst.index(10.5)"
   ]
  },
  {
   "cell_type": "code",
   "execution_count": 32,
   "id": "9288685a",
   "metadata": {
    "ExecuteTime": {
     "end_time": "2022-11-24T05:17:34.054727Z",
     "start_time": "2022-11-24T05:17:34.047661Z"
    }
   },
   "outputs": [],
   "source": [
    "lst.insert(0,50)\n"
   ]
  },
  {
   "cell_type": "code",
   "execution_count": 33,
   "id": "30139ddb",
   "metadata": {
    "ExecuteTime": {
     "end_time": "2022-11-24T05:18:11.898966Z",
     "start_time": "2022-11-24T05:18:11.886826Z"
    }
   },
   "outputs": [
    {
     "data": {
      "text/plain": [
       "[50, 50, 50, 10, 10.5, True, 'hello', 1000, 1000, 1000]"
      ]
     },
     "execution_count": 33,
     "metadata": {},
     "output_type": "execute_result"
    }
   ],
   "source": [
    "lst"
   ]
  },
  {
   "cell_type": "code",
   "execution_count": null,
   "id": "b5ee4f4a",
   "metadata": {},
   "outputs": [],
   "source": [
    "lst.pop()"
   ]
  },
  {
   "cell_type": "code",
   "execution_count": 34,
   "id": "b7ce3507",
   "metadata": {
    "ExecuteTime": {
     "end_time": "2022-11-24T05:18:47.187117Z",
     "start_time": "2022-11-24T05:18:47.176993Z"
    }
   },
   "outputs": [
    {
     "data": {
      "text/plain": [
       "[50, 50, 50, 10, 10.5, True, 'hello', 1000, 1000, 1000]"
      ]
     },
     "execution_count": 34,
     "metadata": {},
     "output_type": "execute_result"
    }
   ],
   "source": [
    "lst"
   ]
  },
  {
   "cell_type": "code",
   "execution_count": null,
   "id": "3662f629",
   "metadata": {},
   "outputs": [],
   "source": [
    "lst.reverse()"
   ]
  },
  {
   "cell_type": "code",
   "execution_count": 35,
   "id": "c5b5e27e",
   "metadata": {
    "ExecuteTime": {
     "end_time": "2022-11-24T05:19:31.389539Z",
     "start_time": "2022-11-24T05:19:31.374043Z"
    }
   },
   "outputs": [
    {
     "data": {
      "text/plain": [
       "[50, 50, 50, 10, 10.5, True, 'hello', 1000, 1000, 1000]"
      ]
     },
     "execution_count": 35,
     "metadata": {},
     "output_type": "execute_result"
    }
   ],
   "source": [
    "lst"
   ]
  },
  {
   "cell_type": "code",
   "execution_count": 38,
   "id": "e3c30016",
   "metadata": {
    "ExecuteTime": {
     "end_time": "2022-11-24T05:22:09.827723Z",
     "start_time": "2022-11-24T05:22:09.811592Z"
    }
   },
   "outputs": [],
   "source": [
    "lst.remove(10.5)\n"
   ]
  },
  {
   "cell_type": "code",
   "execution_count": 39,
   "id": "356923c3",
   "metadata": {
    "ExecuteTime": {
     "end_time": "2022-11-24T05:22:15.245019Z",
     "start_time": "2022-11-24T05:22:15.229665Z"
    }
   },
   "outputs": [
    {
     "data": {
      "text/plain": [
       "[50, 50, 50, 10, True, 'hello', 1000, 1000, 1000]"
      ]
     },
     "execution_count": 39,
     "metadata": {},
     "output_type": "execute_result"
    }
   ],
   "source": [
    "lst"
   ]
  },
  {
   "cell_type": "code",
   "execution_count": 41,
   "id": "493c804f",
   "metadata": {
    "ExecuteTime": {
     "end_time": "2022-11-24T05:22:56.044957Z",
     "start_time": "2022-11-24T05:22:56.038171Z"
    }
   },
   "outputs": [],
   "source": [
    "lst[4] = False"
   ]
  },
  {
   "cell_type": "code",
   "execution_count": 42,
   "id": "4ae83bb1",
   "metadata": {
    "ExecuteTime": {
     "end_time": "2022-11-24T05:23:00.310573Z",
     "start_time": "2022-11-24T05:23:00.291952Z"
    }
   },
   "outputs": [
    {
     "data": {
      "text/plain": [
       "[50, 50, 50, 10, False, 'hello', 1000, 1000, 1000]"
      ]
     },
     "execution_count": 42,
     "metadata": {},
     "output_type": "execute_result"
    }
   ],
   "source": [
    "lst"
   ]
  },
  {
   "cell_type": "code",
   "execution_count": 44,
   "id": "704e5309",
   "metadata": {
    "ExecuteTime": {
     "end_time": "2022-11-24T05:24:00.062234Z",
     "start_time": "2022-11-24T05:24:00.052153Z"
    }
   },
   "outputs": [],
   "source": [
    "lst[-1] = 5000"
   ]
  },
  {
   "cell_type": "code",
   "execution_count": 45,
   "id": "02f7f710",
   "metadata": {
    "ExecuteTime": {
     "end_time": "2022-11-24T05:24:12.186363Z",
     "start_time": "2022-11-24T05:24:12.175937Z"
    }
   },
   "outputs": [
    {
     "data": {
      "text/plain": [
       "[50, 50, 50, 10, False, 'hello', 1000, 1000, 5000]"
      ]
     },
     "execution_count": 45,
     "metadata": {},
     "output_type": "execute_result"
    }
   ],
   "source": [
    "lst"
   ]
  },
  {
   "cell_type": "code",
   "execution_count": 46,
   "id": "fd4c86e2",
   "metadata": {
    "ExecuteTime": {
     "end_time": "2022-11-24T05:42:40.863622Z",
     "start_time": "2022-11-24T05:42:40.844010Z"
    }
   },
   "outputs": [
    {
     "data": {
      "text/plain": [
       "tuple"
      ]
     },
     "execution_count": 46,
     "metadata": {},
     "output_type": "execute_result"
    }
   ],
   "source": [
    "t = ()\n",
    "type (t)"
   ]
  },
  {
   "cell_type": "code",
   "execution_count": null,
   "id": "e76db6b6",
   "metadata": {},
   "outputs": [],
   "source": [
    "t(10,1,2,'hi',1000,15.2)"
   ]
  },
  {
   "cell_type": "code",
   "execution_count": 47,
   "id": "01ee5196",
   "metadata": {
    "ExecuteTime": {
     "end_time": "2022-11-24T05:44:08.446932Z",
     "start_time": "2022-11-24T05:44:08.423585Z"
    }
   },
   "outputs": [
    {
     "data": {
      "text/plain": [
       "tuple"
      ]
     },
     "execution_count": 47,
     "metadata": {},
     "output_type": "execute_result"
    }
   ],
   "source": [
    "type(t)"
   ]
  },
  {
   "cell_type": "code",
   "execution_count": 48,
   "id": "2f483bfe",
   "metadata": {
    "ExecuteTime": {
     "end_time": "2022-11-24T05:44:40.375214Z",
     "start_time": "2022-11-24T05:44:40.351022Z"
    }
   },
   "outputs": [
    {
     "data": {
      "text/plain": [
       "0"
      ]
     },
     "execution_count": 48,
     "metadata": {},
     "output_type": "execute_result"
    }
   ],
   "source": [
    "t.count(1000)"
   ]
  },
  {
   "cell_type": "code",
   "execution_count": 51,
   "id": "63880948",
   "metadata": {
    "ExecuteTime": {
     "end_time": "2022-11-24T05:45:47.604773Z",
     "start_time": "2022-11-24T05:45:47.581186Z"
    }
   },
   "outputs": [
    {
     "data": {
      "text/plain": [
       "()"
      ]
     },
     "execution_count": 51,
     "metadata": {},
     "output_type": "execute_result"
    }
   ],
   "source": [
    "t[2:]"
   ]
  },
  {
   "cell_type": "code",
   "execution_count": 52,
   "id": "93de9d00",
   "metadata": {
    "ExecuteTime": {
     "end_time": "2022-11-24T05:46:09.746930Z",
     "start_time": "2022-11-24T05:46:09.723654Z"
    }
   },
   "outputs": [
    {
     "data": {
      "text/plain": [
       "()"
      ]
     },
     "execution_count": 52,
     "metadata": {},
     "output_type": "execute_result"
    }
   ],
   "source": [
    "t"
   ]
  },
  {
   "cell_type": "code",
   "execution_count": null,
   "id": "aeba8b62",
   "metadata": {},
   "outputs": [],
   "source": [
    "t = list(t)"
   ]
  },
  {
   "cell_type": "code",
   "execution_count": 53,
   "id": "43014602",
   "metadata": {
    "ExecuteTime": {
     "end_time": "2022-11-24T05:47:03.614544Z",
     "start_time": "2022-11-24T05:47:03.591229Z"
    }
   },
   "outputs": [
    {
     "data": {
      "text/plain": [
       "tuple"
      ]
     },
     "execution_count": 53,
     "metadata": {},
     "output_type": "execute_result"
    }
   ],
   "source": [
    "type(t)"
   ]
  },
  {
   "cell_type": "code",
   "execution_count": 58,
   "id": "46e7a799",
   "metadata": {
    "ExecuteTime": {
     "end_time": "2022-11-24T05:49:21.867011Z",
     "start_time": "2022-11-24T05:49:21.860131Z"
    }
   },
   "outputs": [],
   "source": [
    "d ={}"
   ]
  },
  {
   "cell_type": "code",
   "execution_count": 59,
   "id": "4ad10ec3",
   "metadata": {
    "ExecuteTime": {
     "end_time": "2022-11-24T05:49:26.079583Z",
     "start_time": "2022-11-24T05:49:26.056989Z"
    }
   },
   "outputs": [
    {
     "data": {
      "text/plain": [
       "dict"
      ]
     },
     "execution_count": 59,
     "metadata": {},
     "output_type": "execute_result"
    }
   ],
   "source": [
    "type(d)"
   ]
  },
  {
   "cell_type": "code",
   "execution_count": 63,
   "id": "0025587b",
   "metadata": {
    "ExecuteTime": {
     "end_time": "2022-11-24T05:56:52.710268Z",
     "start_time": "2022-11-24T05:56:52.687876Z"
    }
   },
   "outputs": [],
   "source": [
    "d = {1:10,2:'A',3:True}"
   ]
  },
  {
   "cell_type": "code",
   "execution_count": 64,
   "id": "9d5a45d2",
   "metadata": {
    "ExecuteTime": {
     "end_time": "2022-11-24T05:57:20.478918Z",
     "start_time": "2022-11-24T05:57:20.461399Z"
    }
   },
   "outputs": [
    {
     "data": {
      "text/plain": [
       "{1: 10, 2: 'A', 3: True}"
      ]
     },
     "execution_count": 64,
     "metadata": {},
     "output_type": "execute_result"
    }
   ],
   "source": [
    "d"
   ]
  },
  {
   "cell_type": "code",
   "execution_count": 65,
   "id": "0ac48e27",
   "metadata": {
    "ExecuteTime": {
     "end_time": "2022-11-24T05:58:01.699486Z",
     "start_time": "2022-11-24T05:58:01.669176Z"
    }
   },
   "outputs": [
    {
     "data": {
      "text/plain": [
       "'A'"
      ]
     },
     "execution_count": 65,
     "metadata": {},
     "output_type": "execute_result"
    }
   ],
   "source": [
    "d.get(2)"
   ]
  },
  {
   "cell_type": "code",
   "execution_count": 66,
   "id": "15cbff06",
   "metadata": {
    "ExecuteTime": {
     "end_time": "2022-11-24T05:58:22.181337Z",
     "start_time": "2022-11-24T05:58:22.165878Z"
    }
   },
   "outputs": [
    {
     "data": {
      "text/plain": [
       "dict_keys([1, 2, 3])"
      ]
     },
     "execution_count": 66,
     "metadata": {},
     "output_type": "execute_result"
    }
   ],
   "source": [
    "d.keys()"
   ]
  },
  {
   "cell_type": "code",
   "execution_count": 67,
   "id": "370deddd",
   "metadata": {
    "ExecuteTime": {
     "end_time": "2022-11-24T05:58:36.792271Z",
     "start_time": "2022-11-24T05:58:36.776148Z"
    }
   },
   "outputs": [
    {
     "data": {
      "text/plain": [
       "dict_items([(1, 10), (2, 'A'), (3, True)])"
      ]
     },
     "execution_count": 67,
     "metadata": {},
     "output_type": "execute_result"
    }
   ],
   "source": [
    "d.items()"
   ]
  },
  {
   "cell_type": "code",
   "execution_count": 69,
   "id": "ed8ab6fa",
   "metadata": {
    "ExecuteTime": {
     "end_time": "2022-11-24T05:59:07.945793Z",
     "start_time": "2022-11-24T05:59:07.935038Z"
    }
   },
   "outputs": [
    {
     "data": {
      "text/plain": [
       "'A'"
      ]
     },
     "execution_count": 69,
     "metadata": {},
     "output_type": "execute_result"
    }
   ],
   "source": [
    "d.pop(2)"
   ]
  },
  {
   "cell_type": "code",
   "execution_count": 70,
   "id": "a8063ef2",
   "metadata": {
    "ExecuteTime": {
     "end_time": "2022-11-24T05:59:20.271924Z",
     "start_time": "2022-11-24T05:59:20.247749Z"
    }
   },
   "outputs": [
    {
     "data": {
      "text/plain": [
       "{1: 10, 3: True}"
      ]
     },
     "execution_count": 70,
     "metadata": {},
     "output_type": "execute_result"
    }
   ],
   "source": [
    "d"
   ]
  },
  {
   "cell_type": "code",
   "execution_count": 71,
   "id": "95b875c2",
   "metadata": {
    "ExecuteTime": {
     "end_time": "2022-11-24T05:59:39.188197Z",
     "start_time": "2022-11-24T05:59:39.172061Z"
    }
   },
   "outputs": [
    {
     "data": {
      "text/plain": [
       "dict_values([10, True])"
      ]
     },
     "execution_count": 71,
     "metadata": {},
     "output_type": "execute_result"
    }
   ],
   "source": [
    "d.values()"
   ]
  },
  {
   "cell_type": "code",
   "execution_count": 75,
   "id": "da515a93",
   "metadata": {
    "ExecuteTime": {
     "end_time": "2022-11-24T06:00:29.019415Z",
     "start_time": "2022-11-24T06:00:28.996316Z"
    }
   },
   "outputs": [
    {
     "data": {
      "text/plain": [
       "10"
      ]
     },
     "execution_count": 75,
     "metadata": {},
     "output_type": "execute_result"
    }
   ],
   "source": [
    "d[1]"
   ]
  },
  {
   "cell_type": "code",
   "execution_count": 76,
   "id": "f658be07",
   "metadata": {
    "ExecuteTime": {
     "end_time": "2022-11-24T06:09:48.319038Z",
     "start_time": "2022-11-24T06:09:48.296195Z"
    }
   },
   "outputs": [
    {
     "data": {
      "text/plain": [
       "set"
      ]
     },
     "execution_count": 76,
     "metadata": {},
     "output_type": "execute_result"
    }
   ],
   "source": [
    "s = {1,2,3,10.5,'A'}\n",
    "type(s)"
   ]
  },
  {
   "cell_type": "code",
   "execution_count": null,
   "id": "ae234898",
   "metadata": {},
   "outputs": [],
   "source": [
    "s1 = {1,2,3,4,5}"
   ]
  },
  {
   "cell_type": "code",
   "execution_count": 77,
   "id": "abe656db",
   "metadata": {
    "ExecuteTime": {
     "end_time": "2022-11-24T06:10:24.647443Z",
     "start_time": "2022-11-24T06:10:24.624271Z"
    }
   },
   "outputs": [
    {
     "data": {
      "text/plain": [
       "{1, 10.5, 2, 3, 'A'}"
      ]
     },
     "execution_count": 77,
     "metadata": {},
     "output_type": "execute_result"
    }
   ],
   "source": [
    "s"
   ]
  },
  {
   "cell_type": "code",
   "execution_count": 78,
   "id": "b12b9b3e",
   "metadata": {
    "ExecuteTime": {
     "end_time": "2022-11-24T06:12:57.391974Z",
     "start_time": "2022-11-24T06:12:57.377583Z"
    }
   },
   "outputs": [
    {
     "data": {
      "text/plain": [
       "{1, 10.5, 100, 2, 3, 'A'}"
      ]
     },
     "execution_count": 78,
     "metadata": {},
     "output_type": "execute_result"
    }
   ],
   "source": [
    "s.add(100)\n",
    "s"
   ]
  },
  {
   "cell_type": "code",
   "execution_count": 83,
   "id": "5ed63f04",
   "metadata": {
    "ExecuteTime": {
     "end_time": "2022-11-24T06:18:51.028262Z",
     "start_time": "2022-11-24T06:18:51.021769Z"
    }
   },
   "outputs": [],
   "source": [
    "a = {'apple','mango','cherry'}\n",
    "b = {'microsoft','google','cherry'}"
   ]
  },
  {
   "cell_type": "code",
   "execution_count": 84,
   "id": "1f4afd0d",
   "metadata": {
    "ExecuteTime": {
     "end_time": "2022-11-24T06:18:56.345692Z",
     "start_time": "2022-11-24T06:18:56.337829Z"
    }
   },
   "outputs": [
    {
     "data": {
      "text/plain": [
       "{'apple', 'mango'}"
      ]
     },
     "execution_count": 84,
     "metadata": {},
     "output_type": "execute_result"
    }
   ],
   "source": [
    "a.difference(b)"
   ]
  },
  {
   "cell_type": "code",
   "execution_count": 86,
   "id": "c45e81e5",
   "metadata": {
    "ExecuteTime": {
     "end_time": "2022-11-24T06:19:28.369479Z",
     "start_time": "2022-11-24T06:19:28.354886Z"
    }
   },
   "outputs": [
    {
     "data": {
      "text/plain": [
       "{'google', 'microsoft'}"
      ]
     },
     "execution_count": 86,
     "metadata": {},
     "output_type": "execute_result"
    }
   ],
   "source": [
    "b.difference(a)"
   ]
  },
  {
   "cell_type": "code",
   "execution_count": 87,
   "id": "d6c80813",
   "metadata": {
    "ExecuteTime": {
     "end_time": "2022-11-24T06:20:13.359545Z",
     "start_time": "2022-11-24T06:20:13.351701Z"
    }
   },
   "outputs": [
    {
     "data": {
      "text/plain": [
       "{'apple', 'cherry', 'google', 'mango', 'microsoft'}"
      ]
     },
     "execution_count": 87,
     "metadata": {},
     "output_type": "execute_result"
    }
   ],
   "source": [
    "a.union(b)"
   ]
  },
  {
   "cell_type": "code",
   "execution_count": 88,
   "id": "2d183b11",
   "metadata": {
    "ExecuteTime": {
     "end_time": "2022-11-24T06:20:35.449252Z",
     "start_time": "2022-11-24T06:20:35.439688Z"
    }
   },
   "outputs": [
    {
     "data": {
      "text/plain": [
       "'microsoft'"
      ]
     },
     "execution_count": 88,
     "metadata": {},
     "output_type": "execute_result"
    }
   ],
   "source": [
    "b.pop()"
   ]
  },
  {
   "cell_type": "code",
   "execution_count": null,
   "id": "d4d50278",
   "metadata": {},
   "outputs": [],
   "source": []
  }
 ],
 "metadata": {
  "_draft": {
   "nbviewer_url": "https://gist.github.com/9b3def277ee4b5461928919aea7257b5"
  },
  "gist": {
   "data": {
    "description": "Untitled1.ipynb",
    "public": true
   },
   "id": "9b3def277ee4b5461928919aea7257b5"
  },
  "kernelspec": {
   "display_name": "Python 3 (ipykernel)",
   "language": "python",
   "name": "python3"
  },
  "language_info": {
   "codemirror_mode": {
    "name": "ipython",
    "version": 3
   },
   "file_extension": ".py",
   "mimetype": "text/x-python",
   "name": "python",
   "nbconvert_exporter": "python",
   "pygments_lexer": "ipython3",
   "version": "3.9.13"
  }
 },
 "nbformat": 4,
 "nbformat_minor": 5
}
